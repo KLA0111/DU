{
 "cells": [
  {
   "cell_type": "code",
   "execution_count": 63,
   "metadata": {},
   "outputs": [],
   "source": [
    "import math"
   ]
  },
  {
   "cell_type": "code",
   "execution_count": 79,
   "metadata": {},
   "outputs": [],
   "source": [
    "def aprox_sqrt(a, n, x_i=-1):\n",
    "    if x_i == -1:\n",
    "        x_i = a\n",
    "    x = ((a / x_i) + x_i) / 2\n",
    "    if n == 0:\n",
    "        return x\n",
    "    return aprox_sqrt(a, n - 1, x)"
   ]
  },
  {
   "cell_type": "code",
   "execution_count": 89,
   "metadata": {},
   "outputs": [],
   "source": [
    "def info(a, n):\n",
    "    aprox = aprox_sqrt(a, n)\n",
    "    ans = math.sqrt(a)\n",
    "    print(\"aproximace: {}\".format(aprox))\n",
    "    print(\"math.sqrt(): {}\".format(ans))\n",
    "    print(\"abs rozdil: {}\".format(abs(aprox - ans)))"
   ]
  },
  {
   "cell_type": "code",
   "execution_count": 90,
   "metadata": {},
   "outputs": [
    {
     "name": "stdout",
     "output_type": "stream",
     "text": [
      "aproximace: 1.414213562373095\n",
      "math.sqrt(): 1.4142135623730951\n",
      "abs rozdil: 2.220446049250313e-16"
     ]
    }
   ],
   "source": [
    "info(2, 50)"
   ]
  },
  {
   "cell_type": "code",
   "execution_count": 86,
   "metadata": {},
   "outputs": [
    {
     "name": "stdout",
     "output_type": "stream",
     "text": [
      "aproximace: 161.52713730936517\n",
      "math.sqrt(): 50.0\n",
      "abs rozdil: 111.52713730936517\n"
     ]
    }
   ],
   "source": [
    "info(2500, 3)"
   ]
  },
  {
   "cell_type": "code",
   "execution_count": 87,
   "metadata": {},
   "outputs": [
    {
     "name": "stdout",
     "output_type": "stream",
     "text": [
      "aproximace: 50.0\n",
      "math.sqrt(): 50.0\n",
      "abs rozdil: 0.0\n"
     ]
    }
   ],
   "source": [
    "info(2500, 9)"
   ]
  },
  {
   "cell_type": "code",
   "execution_count": 88,
   "metadata": {},
   "outputs": [
    {
     "name": "stdout",
     "output_type": "stream",
     "text": [
      "aproximace: 55.97320787662612\n",
      "math.sqrt(): 55.97320787662612\n",
      "abs rozdil: 0.0\n"
     ]
    }
   ],
   "source": [
    "info(3133, 50)"
   ]
  },
  {
   "cell_type": "code",
   "execution_count": null,
   "metadata": {},
   "outputs": [],
   "source": []
  }
 ],
 "metadata": {
  "kernelspec": {
   "display_name": "Python 3",
   "language": "python",
   "name": "python3"
  },
  "language_info": {
   "codemirror_mode": {
    "name": "ipython",
    "version": 3
   },
   "file_extension": ".py",
   "mimetype": "text/x-python",
   "name": "python",
   "nbconvert_exporter": "python",
   "pygments_lexer": "ipython3",
   "version": "3.10.10"
  },
  "orig_nbformat": 4,
  "vscode": {
   "interpreter": {
    "hash": "e2dfcfe8ea50fe6e28ae89e87ec6a27ee2dd84bd998b68444da470d09b5bcbfb"
   }
  }
 },
 "nbformat": 4,
 "nbformat_minor": 2
}
