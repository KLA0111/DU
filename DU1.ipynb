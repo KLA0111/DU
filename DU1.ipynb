{
 "cells": [
  {
   "cell_type": "code",
   "execution_count": 1,
   "metadata": {},
   "outputs": [],
   "source": [
    "import math"
   ]
  },
  {
   "attachments": {},
   "cell_type": "markdown",
   "metadata": {},
   "source": [
    "UKOL 1"
   ]
  },
  {
   "cell_type": "code",
   "execution_count": 2,
   "metadata": {},
   "outputs": [],
   "source": [
    "def aprox_sqrt(a, n, x_i=-1):\n",
    "    if x_i == -1:\n",
    "        x_i = a\n",
    "    x = ((a / x_i) + x_i) / 2\n",
    "    if n == 0:\n",
    "        return x\n",
    "    return aprox_sqrt(a, n - 1, x)"
   ]
  },
  {
   "cell_type": "code",
   "execution_count": 3,
   "metadata": {},
   "outputs": [],
   "source": [
    "def info(a, n):\n",
    "    aprox = aprox_sqrt(a, n)\n",
    "    ans = math.sqrt(a)\n",
    "    print(\"aproximace: {}\".format(aprox))\n",
    "    print(\"math.sqrt(): {}\".format(ans))\n",
    "    print(\"abs rozdil: {}\".format(abs(aprox - ans)))"
   ]
  },
  {
   "cell_type": "code",
   "execution_count": 4,
   "metadata": {},
   "outputs": [
    {
     "name": "stdout",
     "output_type": "stream",
     "text": [
      "aproximace: 1.414213562373095\n",
      "math.sqrt(): 1.4142135623730951\n",
      "abs rozdil: 2.220446049250313e-16\n"
     ]
    }
   ],
   "source": [
    "info(2, 50)"
   ]
  },
  {
   "cell_type": "code",
   "execution_count": 5,
   "metadata": {},
   "outputs": [
    {
     "name": "stdout",
     "output_type": "stream",
     "text": [
      "aproximace: 161.52713730936517\n",
      "math.sqrt(): 50.0\n",
      "abs rozdil: 111.52713730936517\n"
     ]
    }
   ],
   "source": [
    "info(2500, 3)"
   ]
  },
  {
   "cell_type": "code",
   "execution_count": 6,
   "metadata": {},
   "outputs": [
    {
     "name": "stdout",
     "output_type": "stream",
     "text": [
      "aproximace: 50.0\n",
      "math.sqrt(): 50.0\n",
      "abs rozdil: 0.0\n"
     ]
    }
   ],
   "source": [
    "info(2500, 9)"
   ]
  },
  {
   "cell_type": "code",
   "execution_count": 7,
   "metadata": {},
   "outputs": [
    {
     "name": "stdout",
     "output_type": "stream",
     "text": [
      "aproximace: 55.97320787662612\n",
      "math.sqrt(): 55.97320787662612\n",
      "abs rozdil: 0.0\n"
     ]
    }
   ],
   "source": [
    "info(3133, 50)"
   ]
  },
  {
   "attachments": {},
   "cell_type": "markdown",
   "metadata": {},
   "source": [
    "UKOL 2"
   ]
  },
  {
   "cell_type": "code",
   "execution_count": 33,
   "metadata": {},
   "outputs": [],
   "source": [
    "def aprox_pi_2(n):\n",
    "    v = math.sqrt(1 - (1 / 2) ** 2)\n",
    "    b = 1\n",
    "    for i in range(n):\n",
    "        b = math.sqrt((b / 2) ** 2 + (1 - v) ** 2)\n",
    "        v = math.sqrt(1 - (b / 2) ** 2)\n",
    "    return 6 * (2 ** n) * v * b / 2"
   ]
  },
  {
   "cell_type": "code",
   "execution_count": 34,
   "metadata": {},
   "outputs": [
    {
     "name": "stdout",
     "output_type": "stream",
     "text": [
      "3.1415926535897936 4.440892098500626e-16\n"
     ]
    }
   ],
   "source": [
    "aprox = aprox_pi_2(100)\n",
    "print(aprox, abs(math.pi - aprox))"
   ]
  },
  {
   "attachments": {},
   "cell_type": "markdown",
   "metadata": {},
   "source": [
    "UKOL 3"
   ]
  },
  {
   "cell_type": "code",
   "execution_count": 31,
   "metadata": {},
   "outputs": [],
   "source": [
    "def aprox_pi_3(n):\n",
    "    a = []\n",
    "    a.append((1 / 2) * (1 / 2 ** 3))\n",
    "    for i in range(2, n):\n",
    "        a.append(a[-1] * (2 * i - 3) / (2 * i * 2 ** 2))\n",
    "    s = 0\n",
    "    for i in range(1, n):\n",
    "        s += a[i - 1] / (2 * i + 1)\n",
    "    return 12 * (- aprox_sqrt(3, 1000) / 8 + 1 / 2 - s)"
   ]
  },
  {
   "cell_type": "code",
   "execution_count": 36,
   "metadata": {},
   "outputs": [
    {
     "name": "stdout",
     "output_type": "stream",
     "text": [
      "3.1415926535897936 4.440892098500626e-16\n"
     ]
    }
   ],
   "source": [
    "aprox = aprox_pi_3(100)\n",
    "print(aprox, abs(math.pi - aprox))"
   ]
  },
  {
   "cell_type": "code",
   "execution_count": null,
   "metadata": {},
   "outputs": [],
   "source": []
  }
 ],
 "metadata": {
  "kernelspec": {
   "display_name": "Python 3",
   "language": "python",
   "name": "python3"
  },
  "language_info": {
   "codemirror_mode": {
    "name": "ipython",
    "version": 3
   },
   "file_extension": ".py",
   "mimetype": "text/x-python",
   "name": "python",
   "nbconvert_exporter": "python",
   "pygments_lexer": "ipython3",
   "version": "3.10.10"
  },
  "orig_nbformat": 4,
  "vscode": {
   "interpreter": {
    "hash": "e2dfcfe8ea50fe6e28ae89e87ec6a27ee2dd84bd998b68444da470d09b5bcbfb"
   }
  }
 },
 "nbformat": 4,
 "nbformat_minor": 2
}
